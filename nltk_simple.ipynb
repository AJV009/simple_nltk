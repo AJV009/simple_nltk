{
  "nbformat": 4,
  "nbformat_minor": 0,
  "metadata": {
    "colab": {
      "name": "nltk_simple.ipynb",
      "provenance": []
    },
    "kernelspec": {
      "name": "python3",
      "display_name": "Python 3"
    },
    "language_info": {
      "name": "python"
    }
  },
  "cells": [
    {
      "cell_type": "code",
      "execution_count": 2,
      "metadata": {
        "id": "jOKaK6jTE-mJ"
      },
      "outputs": [],
      "source": [
        "import nltk"
      ]
    },
    {
      "cell_type": "code",
      "source": [
        "nltk.download('vader_lexicon')"
      ],
      "metadata": {
        "colab": {
          "base_uri": "https://localhost:8080/"
        },
        "id": "B99bNYr_Fhfy",
        "outputId": "377133cd-3896-4a5c-eb22-854febdc5fc8"
      },
      "execution_count": 3,
      "outputs": [
        {
          "output_type": "stream",
          "name": "stdout",
          "text": [
            "[nltk_data] Downloading package vader_lexicon to /root/nltk_data...\n"
          ]
        },
        {
          "output_type": "execute_result",
          "data": {
            "text/plain": [
              "True"
            ]
          },
          "metadata": {},
          "execution_count": 3
        }
      ]
    },
    {
      "cell_type": "code",
      "source": [
        "def nltk_sentiment(sentence):\n",
        "    from nltk.sentiment.vader import SentimentIntensityAnalyzer\n",
        "    nltk_sentiment = SentimentIntensityAnalyzer()\n",
        "    score = nltk_sentiment.polarity_scores(sentence)\n",
        "    return score"
      ],
      "metadata": {
        "id": "jGugSKlSFkPG"
      },
      "execution_count": 4,
      "outputs": []
    },
    {
      "cell_type": "code",
      "source": [
        "t1 = \"Food is good and not too expensive. Serving is just right for adult. Ambient is nice too.\"\n",
        "t2 = \"Good office lunch or after work place to go to with a big group as they have a lot of private areas with large tables\"\n",
        "t3 = \"As a Korean person, it was very disappointing food quality and very pricey for what you get. I won't go back there again. \"\n",
        "t4 = \"Fast service. Prices are reasonable and food is decent.\"\n",
        "t5 = \"Extremely long waiting time. Food is decent but definitely not worth the wait.\"\n",
        "t6 = \"Clean premises, tasty food. My family favourites are the clear\""
      ],
      "metadata": {
        "id": "h-q-0w_QGMZT"
      },
      "execution_count": 5,
      "outputs": []
    },
    {
      "cell_type": "code",
      "source": [
        "print(t1, nltk_sentiment(t1))"
      ],
      "metadata": {
        "colab": {
          "base_uri": "https://localhost:8080/"
        },
        "id": "-RcHI3bgGOLf",
        "outputId": "25f1b3a9-0f8e-4d91-ea21-2cadfe5d6425"
      },
      "execution_count": 6,
      "outputs": [
        {
          "output_type": "stream",
          "name": "stdout",
          "text": [
            "Food is good and not too expensive. Serving is just right for adult. Ambient is nice too. {'neg': 0.0, 'neu': 0.725, 'pos': 0.275, 'compound': 0.6908}\n"
          ]
        },
        {
          "output_type": "stream",
          "name": "stderr",
          "text": [
            "/usr/local/lib/python3.7/dist-packages/nltk/twitter/__init__.py:20: UserWarning: The twython library has not been installed. Some functionality from the twitter package will not be available.\n",
            "  warnings.warn(\"The twython library has not been installed. \"\n"
          ]
        }
      ]
    }
  ]
}